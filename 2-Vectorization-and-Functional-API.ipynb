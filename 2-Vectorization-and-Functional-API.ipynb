{
 "cells": [
  {
   "cell_type": "markdown",
   "metadata": {},
   "source": [
    "# Vectorization and the Numpy Functional API\r\n",
    "\r\n",
    "The goal of this section is to introduce you to some of the functions in the numpy library and to introduce the concept of vectorization, which allows you to write performant and clean code. To kick off this section, here is an example that motivates why you want to learn about vectorization. Below you can find three versions of a function that adds a number to each element in a 2d array (matrix). The first uses a traditional list syntax, the second does the list-style additions on a `ndarray`, and the third one uses vectorization and the numpy API. Each addition is executed 100 times\r\n",
    "\r\n",
    "**Note**: This example takes about 30s to complete on my computer. You can run it, and study the code while it executes."
   ]
  },
  {
   "cell_type": "code",
   "execution_count": null,
   "metadata": {},
   "outputs": [],
   "source": [
    "from typing import List, Tuple\r\n",
    "import numpy as np\r\n",
    "import timeit\r\n",
    "\r\n",
    "\r\n",
    "def add_to_matrix_list(matrix: List[List[float]], number: float, *, shape: Tuple[int, int]) -> List[List[float]]:\r\n",
    "    # equivalent to np.zeros_like(matrix)\r\n",
    "    result = [[0] * shape[1] for y in range(shape[0])]\r\n",
    "    \r\n",
    "    # equivalent of matrix + number\r\n",
    "    for y in range(shape[0]):\r\n",
    "        for x in range(shape[1]):\r\n",
    "            result[y][x] = matrix[y][x] + number\r\n",
    "\r\n",
    "    return result\r\n",
    "\r\n",
    "\r\n",
    "def add_to_matrix(matrix: np.ndarray, number: float) -> np.ndarray:\r\n",
    "    result = np.zeros_like(matrix)\r\n",
    "\r\n",
    "    # equivalent of matrix + number\r\n",
    "    for y in range(matrix.shape[0]):\r\n",
    "        for x in range(matrix.shape[1]):\r\n",
    "            result[y, x] = matrix[y, x] + number\r\n",
    "\r\n",
    "    return result\r\n",
    "\r\n",
    "\r\n",
    "def add_to_matrix_numpy(matrix: np.ndarray, number: float) -> np.ndarray:\r\n",
    "    return matrix + number\r\n",
    "\r\n",
    "\r\n",
    "matrix_shape = (1000, 1000)\r\n",
    "some_array = np.arange(1000*1000).reshape(1000, 1000)\r\n",
    "some_list = some_array.tolist()\r\n",
    "\r\n",
    "manual_as_list = add_to_matrix_list(some_list, 2, shape=(100,100))\r\n",
    "manual_as_ndarray = add_to_matrix(some_array, 2)\r\n",
    "via_numpy = add_to_matrix_numpy(some_array, 2)\r\n",
    "\r\n",
    "time_list = timeit.timeit(\"add_to_matrix_list(some_list, 2, shape=(1000,1000))\", \"from __main__ import some_list, add_to_matrix_list\", number=100)\r\n",
    "time_array = timeit.timeit(\"add_to_matrix(some_array, 2)\", \"from __main__ import some_array, add_to_matrix\", number=100)\r\n",
    "time_numpy = timeit.timeit(\"add_to_matrix_numpy(some_array, 2)\", \"from __main__ import some_array, add_to_matrix_numpy\", number=100)\r\n",
    "\r\n",
    "print(f\"\"\"Timings for different runs:\r\n",
    "List: {time_list/10:>16.6f} ms\r\n",
    "Manual Array: {time_array/10:>7.6f} ms\r\n",
    "Numpy: {time_numpy/10:>15.6f} ms\r\n",
    "\r\n",
    " \"\"\")\r\n"
   ]
  },
  {
   "cell_type": "markdown",
   "metadata": {},
   "source": [
    "On my machine the list version takes about 0.5 ms to process a (1000, 1000) array. If we only need to do it a few times this is certainly something we can live with; on the other hand, if it happens along the critical path (the sequence of code that takes the most time in our current program) then we might wish to optimize it. This is where numpy shines, which - again on my machine - is a whooping 90x faster. Perhaps even more surprisingly, numpy's version of `array + number` looks very similar to the above loops if you peak under the hood.\r\n",
    "\r\n",
    "So why is numpy so much faster? The short answer is *optimization*. The not so short and very technical answer is that there are multiple factors contributing to this. The first is that numpy calls a C function under the hood. C code tends to be faster than python code, because (a) C code can do compile-time optimizations, and (b) C code doesn't have to check for exceptions after each step. The next speed boost comes from a different memory layout. A python list is a sequence of objects that can - essentially - live in different locations of your RAM, whereas numpy arrays are guaranteed to occupy a single continous block of memory. Instead of checking where the next element is located we can directly go to the neighbouring memory block, which - again - makes our code much faster. Thirdly, because of this difference in memory layout we can use something called SIMD (sometimes called vectorization extension), a special ability of many modern CPUs to process a block of numbers in one step. Finally, being in C allows us to side-step the python GIL and use threads that actually run in parallel. While numpy itself doesn't do multi-threadding, some of the libraries that it builds on (MKL/OpenBLAS) might.\r\n",
    "\r\n",
    "The second observation we can make is that manually adding to a `ndarray` is about 4x slower than the list-of-list version. This highlights a second important aspect of the numpy API. Numpy is implemented in C, and there is a constant overhead associated with calling a C function from python. This overhead is so small, that we don't have to worry about it if we do few calls. However, if we call a numpy function 1 million times (1000 * 1000) in a loop this overhead becomes painfully noticable."
   ]
  },
  {
   "cell_type": "markdown",
   "metadata": {},
   "source": [
    "## Vectorization\r\n",
    "\r\n",
    "A typical description of vectorization is *to remove the for loops from your code*. However, a more accurate description of vectorization is *replace parts of your code with function calls from a highly-optimized library*. It is about letting your computer know that you want to perform a certain operation repeatedly on every element in some structure, and that this operation is pure in the sense that it will have no side-effects on other variables in our code. Most languages offer libraries tailored to this purpose. Within such a library you usually find an array of functions that correspond to primitive operations (plus, minus, multiply, divide, modulo, sin, cos, ...). Each function typically takes in one or more special objects, e.g. `ndarray`s, and performs the desired operation for you on every element in the structure and returns the result. From your (a users) perspective, however, it really is a game of *which piece of my program can I replace with a function call from this library* and - usually - every for loop that does numerical processing is a good place to start.\r\n",
    "\r\n",
    "Numpy makes this job particularily easy, because it has a symbiotic and insanley deep relationship with the language itself. Some parts of the python language, e.g. Ellipsis (...), exist in python because the numpy community asked for it). As a result, most basic python operators (`+`, `-`, `%`, ...) are overloaded for numpy arrays and they will automatically call the optimized function for you without you having to worry about it explicitly. Most other functions are available in numpy's primary namespace, e.g., `np.sin`, `np.dot`, `np.sum`, and many more. These are called `ufunc`s which stands for universal functions.\r\n",
    "\r\n",
    "Here is a list of all the overloaded operators\r\n",
    "\r\n"
   ]
  },
  {
   "cell_type": "code",
   "execution_count": null,
   "metadata": {},
   "outputs": [],
   "source": [
    "# working with constants happens element wise\r\n",
    "vector = np.ones(5)\r\n",
    "a0 = vector + 4\r\n",
    "a1 = vector - 1\r\n",
    "a2 = vector * 4\r\n",
    "a3 = vector / 4\r\n",
    "a4 = vector // 4 # integer division\r\n",
    "a5 = vector % 4\r\n",
    "a6 = vector ** 7\r\n",
    "\r\n",
    "# boolean operations work element-wise, too\r\n",
    "bool_vector = np.array([1, 0, 1, 0], dtype=bool)\r\n",
    "a7 = bool_vector & bool_vector\r\n",
    "a8 = bool_vector | bool_vector\r\n",
    "a9 = bool_vector ^ bool_vector\r\n",
    "a10 =  vector.astype(int) >> 3\r\n",
    "a11 = vector.astype(int) << 3\r\n",
    "\r\n",
    "# logical operations work element-wise, too\r\n",
    "vector2 = np.array([52, -3, 4, 7, -42])\r\n",
    "a12 = vector == vector2\r\n",
    "a13 = vector > vector2\r\n",
    "a14 = vector < vector2\r\n",
    "a15 = vector != vector2\r\n",
    "\r\n",
    "# of course you can do this with any array\r\n",
    "# and syntax-sugar like += is supported\r\n",
    "tensor = np.arange(32*256*256*3).reshape(32, 256, 256, 3)\r\n",
    "tensor += 42\r\n",
    "tensor %= 42\r\n",
    "\r\n",
    "# working with two arrays will apply the operation element-wise\r\n",
    "matrix = np.arange(25, dtype=float).reshape(5, 5)\r\n",
    "matrix2 = np.linspace(1, 100, 25).reshape(5, 5)\r\n",
    "\r\n",
    "a16 = matrix ** matrix2\r\n",
    "matrix -= matrix2\r\n",
    "\r\n",
    "# finally, a special operator you may be unaware of\r\n",
    "a17 = matrix @ vector  # matrix-vector multiplication\r\n"
   ]
  },
  {
   "cell_type": "markdown",
   "metadata": {},
   "source": [
    "With this we can already do some basic vectorization (and de-vectorization for the sake of practice).\r\n",
    "\r\n",
    "### Exercise 1\r\n",
    "\r\n",
    "Vectorize the following code snippets"
   ]
  },
  {
   "cell_type": "code",
   "execution_count": null,
   "metadata": {},
   "outputs": [],
   "source": [
    "# Exercise 1.1\r\n",
    "# vectorize the snippet below\r\n",
    "foo = np.ones((3, 6, 9, 12)).tolist()\r\n",
    "for x1 in range(3):\r\n",
    "    for x2 in range(6):\r\n",
    "        for x3 in range(9):\r\n",
    "            for x4 in range(12):\r\n",
    "                element = foo[x1][x2][x3][x4]\r\n",
    "                new_element = element + 5\r\n",
    "                new_element /= 3\r\n",
    "                foo[x1][x2][x3][x4] = new_element"
   ]
  },
  {
   "cell_type": "markdown",
   "metadata": {},
   "source": [
    "<details>\r\n",
    "<summary>Answer (click me to reveal)</summary>\r\n",
    "\r\n",
    "```\r\n",
    "foo = (foo + 5) / 3\r\n",
    "```\r\n",
    "</details>"
   ]
  },
  {
   "cell_type": "code",
   "execution_count": null,
   "metadata": {},
   "outputs": [],
   "source": [
    "# Exercise 1.2\r\n",
    "# vectorize the snippet below\r\n",
    "foo = [1, 3, 3, 7, 15]\r\n",
    "bar = [6.0, 5.0, 4.0, 3.0, 2.0]\r\n",
    "\r\n",
    "baz = list()\r\n",
    "for x, y in zip(foo, bar):\r\n",
    "    baz.append(x - 10*y)"
   ]
  },
  {
   "cell_type": "markdown",
   "metadata": {},
   "source": [
    "<details>\r\n",
    "<summary>Answer (click me to reveal)</summary>\r\n",
    "\r\n",
    "```\r\n",
    "baz = foo - 10 * bar \r\n",
    "```\r\n",
    "</details>"
   ]
  },
  {
   "cell_type": "code",
   "execution_count": null,
   "metadata": {},
   "outputs": [],
   "source": [
    "# Exercise 1.3\r\n",
    "# de-vectorize this expression, i.e. write it in plain python code\r\n",
    "foo = np.arange(100) % 2 == 0"
   ]
  },
  {
   "cell_type": "markdown",
   "metadata": {},
   "source": [
    "<details>\r\n",
    "<summary>Answer (click me to reveal)</summary>\r\n",
    "\r\n",
    "Using list comprehension\r\n",
    "\r\n",
    "```\r\n",
    "foo = [x % 2 == 0 for x in range(100)]\r\n",
    "```\r\n",
    "\r\n",
    "more manually\r\n",
    "\r\n",
    "```\r\n",
    "foo = list()\r\n",
    "for x in range(100):\r\n",
    "    foo.append(x % 2 == 0)\r\n",
    "```\r\n",
    "</details>"
   ]
  },
  {
   "cell_type": "code",
   "execution_count": null,
   "metadata": {},
   "outputs": [],
   "source": [
    "# Exercise 1.4\r\n",
    "# vectorize the snippet below\r\n",
    "foo = list()\r\n",
    "for y in range(12):\r\n",
    "    sub_list = list()\r\n",
    "    for x in range(10):\r\n",
    "        if x > y:\r\n",
    "            sub_list.append(0)\r\n",
    "        else:\r\n",
    "            sub_list.append(42)\r\n",
    "\r\n",
    "    foo.append(sub_list)\r\n"
   ]
  },
  {
   "cell_type": "markdown",
   "metadata": {},
   "source": [
    "<details>\r\n",
    "<summary>Answer (click me to reveal)</summary>\r\n",
    "\r\n",
    "```\r\n",
    "42 * np.tri(12, 10, dtype=int)\r\n",
    "```\r\n",
    "</details>"
   ]
  },
  {
   "cell_type": "code",
   "execution_count": null,
   "metadata": {},
   "outputs": [],
   "source": [
    "# Exercise 1.3\r\n",
    "# de-vectorize this expression, i.e. write it in plain python code\r\n",
    "foo = ((np.arange(100) % 2) * 2 - 1) * np.arange(100)"
   ]
  },
  {
   "cell_type": "markdown",
   "metadata": {},
   "source": [
    "<details>\r\n",
    "<summary>Answer (click me to reveal)</summary>\r\n",
    "\r\n",
    "```\r\n",
    "foo = list()\r\n",
    "for idx in range(100):\r\n",
    "    if idx % 2 == 0:\r\n",
    "        foo.append(-idx)\r\n",
    "    else:\r\n",
    "        foo.append(idx)\r\n",
    "```\r\n",
    "\r\n",
    "with list comprehension\r\n",
    "\r\n",
    "```\r\n",
    "foo = [x if x % 2 else -x for x in range(100)]\r\n",
    "```\r\n",
    "\r\n",
    "</details>"
   ]
  },
  {
   "cell_type": "markdown",
   "metadata": {},
   "source": [
    "## The Functional API\r\n",
    "\r\n",
    "As hinted above, playing the game of *vectorization* essentially means replacing segments of your code with function calls to a highly-optimized library (like numpy). Above, we were mainly looking at replacing operations on individual elements. However, nothing stops us from extending this notion to operations on individual rows, individual columns, or more generally, individual axes of an array. For example, we might wish to sum up every row in a matrix. We may also wish to do this for groups of two or more arrays, e.g., we might wish to compute a matrix-vector multiplication (`@`) or we may wish to compute the dot product of two (or more vectors). We can even look beyond that and think about operations that happen along two axes, where we can find complex operations such as matrix decompositions or convolutions.\r\n",
    "\r\n",
    "The constantly growing list of numpy routines can be found in the documentation: [https://numpy.org/devdocs/reference/routines.html](https://numpy.org/devdocs/reference/routines.html)\r\n",
    "\r\n",
    "\r\n",
    "Here are some examples that you will encounter frequently."
   ]
  },
  {
   "cell_type": "code",
   "execution_count": null,
   "metadata": {},
   "outputs": [],
   "source": [
    "foo = np.linspace(1, 10, 20)\r\n",
    "bar = np.arange(1, 21)\r\n",
    "\r\n",
    "# some more element-wise functions\r\n",
    "a0 = np.cos(foo)\r\n",
    "a1 = np.floor(foo)\r\n",
    "a2 = np.clip(bar, 5, 15)\r\n",
    "a3 = np.exp(bar)\r\n",
    "a4 = np.log(foo)\r\n",
    "a5 = np.sqrt(foo)\r\n",
    "\r\n",
    "# functions that work along an axis\r\n",
    "a6 = np.sum(foo)        # the sum of all elements in the array\r\n",
    "a7 = np.mean(foo)\r\n",
    "a8 = np.std(foo)        # standard deviation\r\n",
    "a9 = np.var(foo)        # variance\r\n",
    "a10 = np.dot(foo, bar)  # scalar product\r\n",
    "a11 = np.any(foo.astype(bool))  # True iff any element of foo is True\r\n",
    "a12 = np.all(bar.astype(bool))  # True iff all elements of bar are True     \r\n"
   ]
  },
  {
   "cell_type": "markdown",
   "metadata": {},
   "source": [
    "Functions that operate along an axis flatten the input by default, i.e., if you call `np.sum(np.eye(6))`, numpy will compute `np.sum(np.eye(6).ravel()) == 6`. If you want the operation to be computed along a specific axis and simply iterate over the remaining ones, you can specify the axis in question using the optional keyword argument `axis=`. For example `np.sum(np.eye(6), axis=1).tolist()` will sum over each row in the matrix and produce `[1.0, 1.0, 1.0, 1.0, 1.0, 1.0]`."
   ]
  },
  {
   "cell_type": "markdown",
   "metadata": {},
   "source": [
    "### Exercise 2\r\n",
    "\r\n",
    "1. Normalize `vectorA`.\r\n",
    "2. Replace the largest value in the `vectorA` with 5\r\n",
    "3. Extract the diagonal of the matrix product of `matrixA` and `matrixB`.\r\n",
    "4. Write the following expression as a sequence of numpy functions: $\\text{mse} = \\sum_{i=0}^N (y - (W\\cdot x + c))^2$"
   ]
  },
  {
   "cell_type": "code",
   "execution_count": null,
   "metadata": {},
   "outputs": [],
   "source": [
    "vectorA = np.array([-2, 8, 3, 9])\r\n",
    "matrixA = np.kron(np.array([1, 2, 3])[:, None], np.array([4, 5, 6])[None, :])\r\n",
    "matrixB = np.arange(10, 1, -1).reshape(3, 3)\r\n",
    "\r\n",
    "y = np.array([1, 2, 3])\r\n",
    "W = matrixA\r\n",
    "x = np.array([43, -1, 7])\r\n",
    "c = np.array([1, 0, 1])"
   ]
  },
  {
   "cell_type": "markdown",
   "metadata": {},
   "source": [
    "<details>\r\n",
    "<summary>Answer (click me to reveal)</summary>\r\n",
    "\r\n",
    "Exercise 2.1\r\n",
    "```\r\n",
    "vectorA = vectorA / np.sqrt(np.sum(vectorA ** 2))\r\n",
    "```\r\n",
    "\r\n",
    "Exercise 2.2\r\n",
    "```\r\n",
    "idx = np.argmax(vectorA)\r\n",
    "vectorA[idx] = 5\r\n",
    "```\r\n",
    "\r\n",
    "Exercise 2.3\r\n",
    "```\r\n",
    "np.diag(matrixA @ matrixB)\r\n",
    "\r\n",
    "# Faster version\r\n",
    "np.sum(matrixA * matrixB.T, axis=1)\r\n",
    "\r\n",
    "# Even Faster version\r\n",
    "np.einsum(\"ij,ji->i\", matrixA, matrixB)\r\n",
    "```\r\n",
    "\r\n",
    "Exercise 2.4\r\n",
    "```\r\n",
    "mse = np.sum((y - (W @ x + c)) ** 2)\r\n",
    "```\r\n",
    "</details>"
   ]
  },
  {
   "cell_type": "markdown",
   "metadata": {},
   "source": [
    "## Final Exercises\r\n",
    "\r\n",
    "### Exercise 3\r\n",
    "\r\n",
    "The array `weather_data` contians daily Swedish weather data from Jan-2020 until approximately the end of Apr-2020. Each row in the data matrix corresponds to a day, and each column in the data matrix contains a different feature of the weather. In more detail, the four columns contain `[temperatureLow, temperatureHigh, humidity, windSpeed]` in that order. Unfortunately, the temperature is measured in °F (Farenheit) instead of °C (Celsius).\r\n",
    "\r\n",
    "Compute the minimum and maximum temperature in Celsius (°C) for each day. Then compute the overall average temperature as well as the temperature's standard deviation."
   ]
  },
  {
   "cell_type": "code",
   "execution_count": null,
   "metadata": {},
   "outputs": [],
   "source": [
    "weather_data = np.load(\"weather_data.npy\")"
   ]
  },
  {
   "cell_type": "markdown",
   "metadata": {},
   "source": [
    "<details>\r\n",
    "<summary>Answer (click me to reveal)</summary>\r\n",
    "\r\n",
    "Exercise 3\r\n",
    "```\r\n",
    "weather_converted = weather_data.copy()\r\n",
    "temp_in_C = (weather_data[:, :2] - 32 ) * 5/9\r\n",
    "weather_converted[:, :2] = temp_in_C\r\n",
    "\r\n",
    "mean_temperature = np.mean(temp_in_C)\r\n",
    "standard_deviation = np.std(temp_in_C)\r\n",
    "```\r\n",
    "</details>"
   ]
  }
 ],
 "metadata": {
  "kernelspec": {
   "display_name": "Python 3.8.8 64-bit",
   "name": "python388jvsc74a57bd05d69d85edf19066ea65ec45e9305decd722722c415050988d8ca48a84314af7c"
  },
  "language_info": {
   "codemirror_mode": {
    "name": "ipython",
    "version": 3
   },
   "file_extension": ".py",
   "mimetype": "text/x-python",
   "name": "python",
   "nbconvert_exporter": "python",
   "pygments_lexer": "ipython3",
   "version": "3.8.8"
  },
  "orig_nbformat": 2
 },
 "nbformat": 4,
 "nbformat_minor": 2
}